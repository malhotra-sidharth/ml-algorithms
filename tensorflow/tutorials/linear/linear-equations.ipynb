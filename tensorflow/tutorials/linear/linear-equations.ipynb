{
 "cells": [
  {
   "cell_type": "code",
   "execution_count": null,
   "metadata": {},
   "outputs": [],
   "source": [
    "\"\"\"\n",
    "Credits: https://learningtensorflow.com\n",
    "\"\"\""
   ]
  },
  {
   "cell_type": "code",
   "execution_count": 1,
   "metadata": {},
   "outputs": [],
   "source": [
    "import tensorflow as tf"
   ]
  },
  {
   "cell_type": "code",
   "execution_count": 4,
   "metadata": {},
   "outputs": [
    {
     "data": {
      "text/plain": [
       "<tf.Tensor 'transpose:0' shape=(2, 2) dtype=float32>"
      ]
     },
     "execution_count": 4,
     "metadata": {},
     "output_type": "execute_result"
    }
   ],
   "source": [
    "# equations to solve\n",
    "# 3x + 2y = 15\n",
    "# 4x − y = 10\n",
    "\n",
    "# point 1\n",
    "x1 = tf.constant(2, dtype=tf.float32)\n",
    "y1 = tf.constant(9, dtype=tf.float32)\n",
    "point1 = tf.stack([x1, y1])\n",
    "\n",
    "# point 2\n",
    "x2 = tf.constant(-1, dtype=tf.float32)\n",
    "y2 = tf.constant(3, dtype=tf.float32)\n",
    "point2 = tf.stack([x2, y2])\n",
    "\n",
    "# combine the points into the array\n",
    "X = tf.transpose(tf.stack([point1, point2]))"
   ]
  },
  {
   "cell_type": "code",
   "execution_count": 7,
   "metadata": {},
   "outputs": [],
   "source": [
    "B = tf.ones((1, 2), dtype=tf.float32)\n",
    "\n",
    "parameters = tf.matmul(B, tf.matrix_inverse(X))\n",
    "\n",
    "with tf.Session() as session:\n",
    "    A = session.run(parameters)"
   ]
  },
  {
   "cell_type": "code",
   "execution_count": 8,
   "metadata": {},
   "outputs": [
    {
     "name": "stdout",
     "output_type": "stream",
     "text": [
      "Equation: y = 2.0x + 5.000000298023242\n"
     ]
    }
   ],
   "source": [
    "b = 1 / A[0][1]\n",
    "a = -b * A[0][0]\n",
    "print(\"Equation: y = {a}x + {b}\".format(a=a, b=b))"
   ]
  },
  {
   "cell_type": "code",
   "execution_count": null,
   "metadata": {},
   "outputs": [],
   "source": []
  }
 ],
 "metadata": {
  "kernelspec": {
   "display_name": "Python 3",
   "language": "python",
   "name": "python3"
  },
  "language_info": {
   "codemirror_mode": {
    "name": "ipython",
    "version": 3
   },
   "file_extension": ".py",
   "mimetype": "text/x-python",
   "name": "python",
   "nbconvert_exporter": "python",
   "pygments_lexer": "ipython3",
   "version": "3.6.3"
  }
 },
 "nbformat": 4,
 "nbformat_minor": 2
}
